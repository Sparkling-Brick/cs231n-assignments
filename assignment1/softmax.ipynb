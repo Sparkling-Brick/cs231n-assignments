{
 "cells": [
  {
   "cell_type": "markdown",
   "metadata": {},
   "source": [
    "# Softmax exercise\n",
    "\n",
    "*Complete and hand in this completed worksheet (including its outputs and any supporting code outside of the worksheet) with your assignment submission. For more details see the [assignments page](http://vision.stanford.edu/teaching/cs231n/assignments.html) on the course website.*\n",
    "\n",
    "This exercise is analogous to the SVM exercise. You will:\n",
    "\n",
    "- implement a fully-vectorized **loss function** for the Softmax classifier\n",
    "- implement the fully-vectorized expression for its **analytic gradient**\n",
    "- **check your implementation** with numerical gradient\n",
    "- use a validation set to **tune the learning rate and regularization** strength\n",
    "- **optimize** the loss function with **SGD**\n",
    "- **visualize** the final learned weights\n"
   ]
  },
  {
   "cell_type": "code",
   "execution_count": 1,
   "metadata": {},
   "outputs": [],
   "source": [
    "import random\n",
    "import numpy as np\n",
    "from cs231n.data_utils import load_CIFAR10\n",
    "import matplotlib.pyplot as plt\n",
    "\n",
    "from __future__ import print_function\n",
    "\n",
    "%matplotlib inline\n",
    "plt.rcParams['figure.figsize'] = (10.0, 8.0) # set default size of plots\n",
    "plt.rcParams['image.interpolation'] = 'nearest'\n",
    "plt.rcParams['image.cmap'] = 'gray'\n",
    "\n",
    "# for auto-reloading extenrnal modules\n",
    "# see http://stackoverflow.com/questions/1907993/autoreload-of-modules-in-ipython\n",
    "%load_ext autoreload\n",
    "%autoreload 2"
   ]
  },
  {
   "cell_type": "code",
   "execution_count": 2,
   "metadata": {},
   "outputs": [
    {
     "data": {
      "text/plain": [
       "array([ 50, 100, 150, 200, 250, 300, 350, 400, 450, 500, 550, 600, 650,\n",
       "       700, 750, 800, 850, 900, 950])"
      ]
     },
     "execution_count": 2,
     "metadata": {},
     "output_type": "execute_result"
    }
   ],
   "source": [
    "np.arange(50, 1000, 50)"
   ]
  },
  {
   "cell_type": "code",
   "execution_count": 2,
   "metadata": {},
   "outputs": [
    {
     "name": "stdout",
     "output_type": "stream",
     "text": [
      "Train data shape:  (49000, 3073)\n",
      "Train labels shape:  (49000,)\n",
      "Validation data shape:  (1000, 3073)\n",
      "Validation labels shape:  (1000,)\n",
      "Test data shape:  (1000, 3073)\n",
      "Test labels shape:  (1000,)\n",
      "dev data shape:  (500, 3073)\n",
      "dev labels shape:  (500,)\n"
     ]
    }
   ],
   "source": [
    "def get_CIFAR10_data(num_training=49000, num_validation=1000, num_test=1000, num_dev=500):\n",
    "    \"\"\"\n",
    "    Load the CIFAR-10 dataset from disk and perform preprocessing to prepare\n",
    "    it for the linear classifier. These are the same steps as we used for the\n",
    "    SVM, but condensed to a single function.  \n",
    "    \"\"\"\n",
    "    # Load the raw CIFAR-10 data\n",
    "    cifar10_dir = 'cs231n/datasets/cifar-10-batches-py'\n",
    "    X_train, y_train, X_test, y_test = load_CIFAR10(cifar10_dir)\n",
    "    \n",
    "    # subsample the data\n",
    "    mask = list(range(num_training, num_training + num_validation))\n",
    "    X_val = X_train[mask]\n",
    "    y_val = y_train[mask]\n",
    "    mask = list(range(num_training))\n",
    "    X_train = X_train[mask]\n",
    "    y_train = y_train[mask]\n",
    "    mask = list(range(num_test))\n",
    "    X_test = X_test[mask]\n",
    "    y_test = y_test[mask]\n",
    "    mask = np.random.choice(num_training, num_dev, replace=False)\n",
    "    X_dev = X_train[mask]\n",
    "    y_dev = y_train[mask]\n",
    "    \n",
    "    # Preprocessing: reshape the image data into rows\n",
    "    X_train = np.reshape(X_train, (X_train.shape[0], -1))\n",
    "    X_val = np.reshape(X_val, (X_val.shape[0], -1))\n",
    "    X_test = np.reshape(X_test, (X_test.shape[0], -1))\n",
    "    X_dev = np.reshape(X_dev, (X_dev.shape[0], -1))\n",
    "    \n",
    "    # Normalize the data: subtract the mean image\n",
    "    mean_image = np.mean(X_train, axis = 0)\n",
    "    X_train -= mean_image\n",
    "    X_val -= mean_image\n",
    "    X_test -= mean_image\n",
    "    X_dev -= mean_image\n",
    "    \n",
    "    # add bias dimension and transform into columns\n",
    "    X_train = np.hstack([X_train, np.ones((X_train.shape[0], 1))])\n",
    "    X_val = np.hstack([X_val, np.ones((X_val.shape[0], 1))])\n",
    "    X_test = np.hstack([X_test, np.ones((X_test.shape[0], 1))])\n",
    "    X_dev = np.hstack([X_dev, np.ones((X_dev.shape[0], 1))])\n",
    "    \n",
    "    return X_train, y_train, X_val, y_val, X_test, y_test, X_dev, y_dev\n",
    "\n",
    "\n",
    "# Invoke the above function to get our data.\n",
    "X_train, y_train, X_val, y_val, X_test, y_test, X_dev, y_dev = get_CIFAR10_data()\n",
    "print('Train data shape: ', X_train.shape)\n",
    "print('Train labels shape: ', y_train.shape)\n",
    "print('Validation data shape: ', X_val.shape)\n",
    "print('Validation labels shape: ', y_val.shape)\n",
    "print('Test data shape: ', X_test.shape)\n",
    "print('Test labels shape: ', y_test.shape)\n",
    "print('dev data shape: ', X_dev.shape)\n",
    "print('dev labels shape: ', y_dev.shape)"
   ]
  },
  {
   "cell_type": "markdown",
   "metadata": {},
   "source": [
    "## Softmax Classifier\n",
    "\n",
    "Your code for this section will all be written inside **cs231n/classifiers/softmax.py**. \n"
   ]
  },
  {
   "cell_type": "code",
   "execution_count": 8,
   "metadata": {},
   "outputs": [
    {
     "name": "stdout",
     "output_type": "stream",
     "text": [
      "loss: 2.442873\n",
      "sanity check: 2.302585\n"
     ]
    }
   ],
   "source": [
    "# First implement the naive softmax loss function with nested loops.\n",
    "# Open the file cs231n/classifiers/softmax.py and implement the\n",
    "# softmax_loss_naive function.\n",
    "\n",
    "from cs231n.classifiers.softmax import softmax_loss_naive\n",
    "import time\n",
    "\n",
    "# Generate a random softmax weight matrix and use it to compute the loss.\n",
    "W = np.random.randn(3073, 10) * 0.0001\n",
    "loss, grad = softmax_loss_naive(W, X_dev, y_dev, 0.0)\n",
    "\n",
    "# As a rough sanity check, our loss should be something close to -log(0.1).\n",
    "print('loss: %f' % loss)\n",
    "print('sanity check: %f' % (-np.log(0.1)))"
   ]
  },
  {
   "cell_type": "markdown",
   "metadata": {},
   "source": [
    "## Inline Question 1:\n",
    "Why do we expect our loss to be close to -log(0.1)? Explain briefly.**\n",
    "\n",
    "**Your answer:** *Fill this in*\n"
   ]
  },
  {
   "cell_type": "code",
   "execution_count": 19,
   "metadata": {},
   "outputs": [
    {
     "data": {
      "text/plain": [
       "6"
      ]
     },
     "execution_count": 19,
     "metadata": {},
     "output_type": "execute_result"
    }
   ],
   "source": [
    "a = np.array([1,2,3])\n",
    "b = np.array([1,2,3])\n",
    "np.sum(a, axis=0)"
   ]
  },
  {
   "cell_type": "code",
   "execution_count": 14,
   "metadata": {},
   "outputs": [
    {
     "name": "stdout",
     "output_type": "stream",
     "text": [
      "numerical: -2.313253 analytic: -2.313253, relative error: 1.161098e-09\n",
      "numerical: -1.107203 analytic: -1.107203, relative error: 3.012331e-09\n",
      "numerical: 2.333656 analytic: 2.333656, relative error: 2.384621e-08\n",
      "numerical: 1.311018 analytic: 1.311018, relative error: 1.329776e-08\n",
      "numerical: 1.585802 analytic: 1.585802, relative error: 1.832723e-08\n",
      "numerical: -0.896505 analytic: -0.896505, relative error: 1.807021e-08\n",
      "numerical: 1.136013 analytic: 1.136012, relative error: 6.319881e-08\n",
      "numerical: 1.122704 analytic: 1.122704, relative error: 3.647617e-08\n",
      "numerical: 0.902162 analytic: 0.902162, relative error: 6.984816e-08\n",
      "numerical: -2.158981 analytic: -2.158981, relative error: 2.030294e-08\n",
      "numerical: -0.315468 analytic: -0.315468, relative error: 4.767876e-09\n",
      "numerical: 1.879142 analytic: 1.879142, relative error: 1.980715e-08\n",
      "numerical: 0.351663 analytic: 0.351663, relative error: 9.066109e-09\n",
      "numerical: -5.426680 analytic: -5.426680, relative error: 5.487411e-10\n",
      "numerical: 3.347613 analytic: 3.347613, relative error: 2.007195e-08\n",
      "numerical: -2.173595 analytic: -2.173595, relative error: 1.042351e-08\n",
      "numerical: 3.206775 analytic: 3.206774, relative error: 3.031666e-08\n",
      "numerical: -1.749675 analytic: -1.749675, relative error: 1.847737e-08\n",
      "numerical: 0.369697 analytic: 0.369697, relative error: 3.213871e-08\n",
      "numerical: 0.853207 analytic: 0.853207, relative error: 2.732053e-08\n"
     ]
    }
   ],
   "source": [
    "# Complete the implementation of softmax_loss_naive and implement a (naive)\n",
    "# version of the gradient that uses nested loops.\n",
    "loss, grad = softmax_loss_naive(W, X_dev, y_dev, 0.0)\n",
    "\n",
    "# As we did for the SVM, use numeric gradient checking as a debugging tool.\n",
    "# The numeric gradient should be close to the analytic gradient.\n",
    "from cs231n.gradient_check import grad_check_sparse\n",
    "f = lambda w: softmax_loss_naive(w, X_dev, y_dev, 0.0)[0]\n",
    "grad_numerical = grad_check_sparse(f, W, grad, 10)\n",
    "\n",
    "# similar to SVM case, do another gradient check with regularization\n",
    "loss, grad = softmax_loss_naive(W, X_dev, y_dev, 5e1)\n",
    "f = lambda w: softmax_loss_naive(w, X_dev, y_dev, 5e1)[0]\n",
    "grad_numerical = grad_check_sparse(f, W, grad, 10)"
   ]
  },
  {
   "cell_type": "code",
   "execution_count": 24,
   "metadata": {},
   "outputs": [],
   "source": [
    "X = X_train"
   ]
  },
  {
   "cell_type": "code",
   "execution_count": 25,
   "metadata": {},
   "outputs": [
    {
     "ename": "ValueError",
     "evalue": "operands could not be broadcast together with shapes (49000,10) (49000,) (49000,10) ",
     "output_type": "error",
     "traceback": [
      "\u001b[1;31m---------------------------------------------------------------------------\u001b[0m",
      "\u001b[1;31mValueError\u001b[0m                                Traceback (most recent call last)",
      "\u001b[1;32m<ipython-input-25-19d59fbf703c>\u001b[0m in \u001b[0;36m<module>\u001b[1;34m()\u001b[0m\n\u001b[0;32m      1\u001b[0m \u001b[0mf\u001b[0m \u001b[1;33m=\u001b[0m \u001b[0mX\u001b[0m\u001b[1;33m.\u001b[0m\u001b[0mdot\u001b[0m\u001b[1;33m(\u001b[0m\u001b[0mW\u001b[0m\u001b[1;33m)\u001b[0m\u001b[1;33m\u001b[0m\u001b[0m\n\u001b[1;32m----> 2\u001b[1;33m \u001b[0mf\u001b[0m \u001b[1;33m-=\u001b[0m \u001b[0mnp\u001b[0m\u001b[1;33m.\u001b[0m\u001b[0mmax\u001b[0m\u001b[1;33m(\u001b[0m\u001b[0mf\u001b[0m\u001b[1;33m,\u001b[0m \u001b[0maxis\u001b[0m\u001b[1;33m=\u001b[0m\u001b[1;36m1\u001b[0m\u001b[1;33m)\u001b[0m\u001b[1;33m\u001b[0m\u001b[0m\n\u001b[0m\u001b[0;32m      3\u001b[0m \u001b[1;31m# cor_clas_scores = f[np.arange(len(num_train)), y]\u001b[0m\u001b[1;33m\u001b[0m\u001b[1;33m\u001b[0m\u001b[0m\n\u001b[0;32m      4\u001b[0m \u001b[1;31m# f_exp = np.exp(f)\u001b[0m\u001b[1;33m\u001b[0m\u001b[1;33m\u001b[0m\u001b[0m\n\u001b[0;32m      5\u001b[0m \u001b[1;31m# cor_clas_scores_exp = np.exp(cor_clas_scores)\u001b[0m\u001b[1;33m\u001b[0m\u001b[1;33m\u001b[0m\u001b[0m\n",
      "\u001b[1;31mValueError\u001b[0m: operands could not be broadcast together with shapes (49000,10) (49000,) (49000,10) "
     ]
    }
   ],
   "source": [
    "f = X.dot(W)\n",
    "f -= np.max(f, axis=1)\n",
    "# cor_clas_scores = f[np.arange(len(num_train)), y]\n",
    "# f_exp = np.exp(f)\n",
    "# cor_clas_scores_exp = np.exp(cor_clas_scores)\n",
    "# loss = np.mean(-np.log(cor_clas_scores_exp/np.sum(f_exp, axis = 1)))"
   ]
  },
  {
   "cell_type": "code",
   "execution_count": 31,
   "metadata": {},
   "outputs": [],
   "source": [
    "a = np.array([[1,2,3],[1,2,3],[1,2,3]])"
   ]
  },
  {
   "cell_type": "code",
   "execution_count": 38,
   "metadata": {},
   "outputs": [],
   "source": [
    "b =  np.array([1,2,0])"
   ]
  },
  {
   "cell_type": "code",
   "execution_count": 37,
   "metadata": {},
   "outputs": [
    {
     "data": {
      "text/plain": [
       "array([[1.        , 2.        , 3.        ],\n",
       "       [0.5       , 1.        , 1.5       ],\n",
       "       [0.33333333, 0.66666667, 1.        ]])"
      ]
     },
     "execution_count": 37,
     "metadata": {},
     "output_type": "execute_result"
    }
   ],
   "source": [
    "(a.T/b).T"
   ]
  },
  {
   "cell_type": "code",
   "execution_count": 40,
   "metadata": {},
   "outputs": [],
   "source": [
    "a[np.arange(len(a)), b] = a[np.arange(len(a)), b] - 1"
   ]
  },
  {
   "cell_type": "code",
   "execution_count": 41,
   "metadata": {},
   "outputs": [
    {
     "data": {
      "text/plain": [
       "array([[1, 1, 3],\n",
       "       [1, 2, 2],\n",
       "       [0, 2, 3]])"
      ]
     },
     "execution_count": 41,
     "metadata": {},
     "output_type": "execute_result"
    }
   ],
   "source": [
    "a"
   ]
  },
  {
   "cell_type": "code",
   "execution_count": 44,
   "metadata": {},
   "outputs": [
    {
     "name": "stdout",
     "output_type": "stream",
     "text": [
      "naive loss: 2.442873e+00 computed in 0.107284s\n",
      "vectorized loss: 2.442873e+00 computed in 0.008024s\n",
      "Loss difference: 0.000000\n",
      "Gradient difference: 0.000000\n"
     ]
    }
   ],
   "source": [
    "# Now that we have a naive implementation of the softmax loss function and its gradient,\n",
    "# implement a vectorized version in softmax_loss_vectorized.\n",
    "# The two versions should compute the same results, but the vectorized version should be\n",
    "# much faster.\n",
    "tic = time.time()\n",
    "loss_naive, grad_naive = softmax_loss_naive(W, X_dev, y_dev, 0.000005)\n",
    "toc = time.time()\n",
    "print('naive loss: %e computed in %fs' % (loss_naive, toc - tic))\n",
    "\n",
    "from cs231n.classifiers.softmax import softmax_loss_vectorized\n",
    "tic = time.time()\n",
    "loss_vectorized, grad_vectorized = softmax_loss_vectorized(W, X_dev, y_dev, 0.000005)\n",
    "toc = time.time()\n",
    "print('vectorized loss: %e computed in %fs' % (loss_vectorized, toc - tic))\n",
    "\n",
    "# As we did for the SVM, we use the Frobenius norm to compare the two versions\n",
    "# of the gradient.\n",
    "grad_difference = np.linalg.norm(grad_naive - grad_vectorized, ord='fro')\n",
    "print('Loss difference: %f' % np.abs(loss_naive - loss_vectorized))\n",
    "print('Gradient difference: %f' % grad_difference)"
   ]
  },
  {
   "cell_type": "code",
   "execution_count": 47,
   "metadata": {},
   "outputs": [],
   "source": [
    "from cs231n.classifiers import softmax"
   ]
  },
  {
   "cell_type": "code",
   "execution_count": 110,
   "metadata": {},
   "outputs": [
    {
     "name": "stdout",
     "output_type": "stream",
     "text": [
      "lr 7.300000e-07 reg 2.200000e+04 train accuracy: 0.322061 val accuracy: 0.328000\n",
      "lr 7.300000e-07 reg 2.344444e+04 train accuracy: 0.329388 val accuracy: 0.347000\n",
      "lr 7.300000e-07 reg 2.488889e+04 train accuracy: 0.321000 val accuracy: 0.337000\n",
      "lr 7.300000e-07 reg 2.633333e+04 train accuracy: 0.326224 val accuracy: 0.348000\n",
      "lr 7.300000e-07 reg 2.777778e+04 train accuracy: 0.314367 val accuracy: 0.338000\n",
      "lr 7.300000e-07 reg 2.922222e+04 train accuracy: 0.312612 val accuracy: 0.320000\n",
      "lr 7.300000e-07 reg 3.066667e+04 train accuracy: 0.318224 val accuracy: 0.332000\n",
      "lr 7.300000e-07 reg 3.211111e+04 train accuracy: 0.297898 val accuracy: 0.319000\n",
      "lr 7.300000e-07 reg 3.355556e+04 train accuracy: 0.298918 val accuracy: 0.318000\n",
      "lr 7.300000e-07 reg 3.500000e+04 train accuracy: 0.321837 val accuracy: 0.321000\n",
      "lr 7.411111e-07 reg 2.200000e+04 train accuracy: 0.324163 val accuracy: 0.333000\n",
      "lr 7.411111e-07 reg 2.344444e+04 train accuracy: 0.315796 val accuracy: 0.321000\n",
      "lr 7.411111e-07 reg 2.488889e+04 train accuracy: 0.320531 val accuracy: 0.339000\n",
      "lr 7.411111e-07 reg 2.633333e+04 train accuracy: 0.305449 val accuracy: 0.324000\n",
      "lr 7.411111e-07 reg 2.777778e+04 train accuracy: 0.318653 val accuracy: 0.331000\n",
      "lr 7.411111e-07 reg 2.922222e+04 train accuracy: 0.323837 val accuracy: 0.334000\n",
      "lr 7.411111e-07 reg 3.066667e+04 train accuracy: 0.308204 val accuracy: 0.318000\n",
      "lr 7.411111e-07 reg 3.211111e+04 train accuracy: 0.322980 val accuracy: 0.340000\n",
      "lr 7.411111e-07 reg 3.355556e+04 train accuracy: 0.324224 val accuracy: 0.337000\n",
      "lr 7.411111e-07 reg 3.500000e+04 train accuracy: 0.313327 val accuracy: 0.312000\n",
      "lr 7.522222e-07 reg 2.200000e+04 train accuracy: 0.324673 val accuracy: 0.339000\n",
      "lr 7.522222e-07 reg 2.344444e+04 train accuracy: 0.328959 val accuracy: 0.338000\n",
      "lr 7.522222e-07 reg 2.488889e+04 train accuracy: 0.324449 val accuracy: 0.338000\n",
      "lr 7.522222e-07 reg 2.633333e+04 train accuracy: 0.317347 val accuracy: 0.324000\n",
      "lr 7.522222e-07 reg 2.777778e+04 train accuracy: 0.307408 val accuracy: 0.325000\n",
      "lr 7.522222e-07 reg 2.922222e+04 train accuracy: 0.320673 val accuracy: 0.337000\n",
      "lr 7.522222e-07 reg 3.066667e+04 train accuracy: 0.303735 val accuracy: 0.326000\n",
      "lr 7.522222e-07 reg 3.211111e+04 train accuracy: 0.310041 val accuracy: 0.324000\n",
      "lr 7.522222e-07 reg 3.355556e+04 train accuracy: 0.310061 val accuracy: 0.337000\n",
      "lr 7.522222e-07 reg 3.500000e+04 train accuracy: 0.292265 val accuracy: 0.290000\n",
      "lr 7.633333e-07 reg 2.200000e+04 train accuracy: 0.313531 val accuracy: 0.328000\n",
      "lr 7.633333e-07 reg 2.344444e+04 train accuracy: 0.328980 val accuracy: 0.327000\n",
      "lr 7.633333e-07 reg 2.488889e+04 train accuracy: 0.308735 val accuracy: 0.320000\n",
      "lr 7.633333e-07 reg 2.633333e+04 train accuracy: 0.307490 val accuracy: 0.326000\n",
      "lr 7.633333e-07 reg 2.777778e+04 train accuracy: 0.317531 val accuracy: 0.340000\n",
      "lr 7.633333e-07 reg 2.922222e+04 train accuracy: 0.306551 val accuracy: 0.326000\n",
      "lr 7.633333e-07 reg 3.066667e+04 train accuracy: 0.317429 val accuracy: 0.329000\n",
      "lr 7.633333e-07 reg 3.211111e+04 train accuracy: 0.304653 val accuracy: 0.316000\n",
      "lr 7.633333e-07 reg 3.355556e+04 train accuracy: 0.308571 val accuracy: 0.321000\n",
      "lr 7.633333e-07 reg 3.500000e+04 train accuracy: 0.314714 val accuracy: 0.329000\n",
      "lr 7.744444e-07 reg 2.200000e+04 train accuracy: 0.327122 val accuracy: 0.340000\n",
      "lr 7.744444e-07 reg 2.344444e+04 train accuracy: 0.320163 val accuracy: 0.337000\n",
      "lr 7.744444e-07 reg 2.488889e+04 train accuracy: 0.325367 val accuracy: 0.335000\n",
      "lr 7.744444e-07 reg 2.633333e+04 train accuracy: 0.317469 val accuracy: 0.320000\n",
      "lr 7.744444e-07 reg 2.777778e+04 train accuracy: 0.317224 val accuracy: 0.338000\n",
      "lr 7.744444e-07 reg 2.922222e+04 train accuracy: 0.319388 val accuracy: 0.343000\n",
      "lr 7.744444e-07 reg 3.066667e+04 train accuracy: 0.312143 val accuracy: 0.349000\n",
      "lr 7.744444e-07 reg 3.211111e+04 train accuracy: 0.302959 val accuracy: 0.314000\n",
      "lr 7.744444e-07 reg 3.355556e+04 train accuracy: 0.311184 val accuracy: 0.333000\n",
      "lr 7.744444e-07 reg 3.500000e+04 train accuracy: 0.315878 val accuracy: 0.339000\n",
      "lr 7.855556e-07 reg 2.200000e+04 train accuracy: 0.327224 val accuracy: 0.337000\n",
      "lr 7.855556e-07 reg 2.344444e+04 train accuracy: 0.310959 val accuracy: 0.335000\n",
      "lr 7.855556e-07 reg 2.488889e+04 train accuracy: 0.324347 val accuracy: 0.355000\n",
      "lr 7.855556e-07 reg 2.633333e+04 train accuracy: 0.319714 val accuracy: 0.343000\n",
      "lr 7.855556e-07 reg 2.777778e+04 train accuracy: 0.318204 val accuracy: 0.328000\n",
      "lr 7.855556e-07 reg 2.922222e+04 train accuracy: 0.308714 val accuracy: 0.326000\n",
      "lr 7.855556e-07 reg 3.066667e+04 train accuracy: 0.317959 val accuracy: 0.331000\n",
      "lr 7.855556e-07 reg 3.211111e+04 train accuracy: 0.309796 val accuracy: 0.325000\n",
      "lr 7.855556e-07 reg 3.355556e+04 train accuracy: 0.314184 val accuracy: 0.331000\n",
      "lr 7.855556e-07 reg 3.500000e+04 train accuracy: 0.305612 val accuracy: 0.323000\n",
      "lr 7.966667e-07 reg 2.200000e+04 train accuracy: 0.329673 val accuracy: 0.339000\n",
      "lr 7.966667e-07 reg 2.344444e+04 train accuracy: 0.324347 val accuracy: 0.347000\n",
      "lr 7.966667e-07 reg 2.488889e+04 train accuracy: 0.321020 val accuracy: 0.340000\n",
      "lr 7.966667e-07 reg 2.633333e+04 train accuracy: 0.322490 val accuracy: 0.336000\n",
      "lr 7.966667e-07 reg 2.777778e+04 train accuracy: 0.318224 val accuracy: 0.324000\n",
      "lr 7.966667e-07 reg 2.922222e+04 train accuracy: 0.313204 val accuracy: 0.323000\n",
      "lr 7.966667e-07 reg 3.066667e+04 train accuracy: 0.313490 val accuracy: 0.334000\n",
      "lr 7.966667e-07 reg 3.211111e+04 train accuracy: 0.299816 val accuracy: 0.312000\n",
      "lr 7.966667e-07 reg 3.355556e+04 train accuracy: 0.310551 val accuracy: 0.327000\n",
      "lr 7.966667e-07 reg 3.500000e+04 train accuracy: 0.299939 val accuracy: 0.307000\n",
      "lr 8.077778e-07 reg 2.200000e+04 train accuracy: 0.325490 val accuracy: 0.343000\n",
      "lr 8.077778e-07 reg 2.344444e+04 train accuracy: 0.324878 val accuracy: 0.342000\n",
      "lr 8.077778e-07 reg 2.488889e+04 train accuracy: 0.318143 val accuracy: 0.319000\n",
      "lr 8.077778e-07 reg 2.633333e+04 train accuracy: 0.315551 val accuracy: 0.332000\n",
      "lr 8.077778e-07 reg 2.777778e+04 train accuracy: 0.328286 val accuracy: 0.347000\n",
      "lr 8.077778e-07 reg 2.922222e+04 train accuracy: 0.311122 val accuracy: 0.333000\n",
      "lr 8.077778e-07 reg 3.066667e+04 train accuracy: 0.311367 val accuracy: 0.331000\n",
      "lr 8.077778e-07 reg 3.211111e+04 train accuracy: 0.320633 val accuracy: 0.332000\n",
      "lr 8.077778e-07 reg 3.355556e+04 train accuracy: 0.323673 val accuracy: 0.335000\n",
      "lr 8.077778e-07 reg 3.500000e+04 train accuracy: 0.314265 val accuracy: 0.324000\n",
      "lr 8.188889e-07 reg 2.200000e+04 train accuracy: 0.318959 val accuracy: 0.339000\n",
      "lr 8.188889e-07 reg 2.344444e+04 train accuracy: 0.307918 val accuracy: 0.326000\n",
      "lr 8.188889e-07 reg 2.488889e+04 train accuracy: 0.323204 val accuracy: 0.347000\n",
      "lr 8.188889e-07 reg 2.633333e+04 train accuracy: 0.327204 val accuracy: 0.342000\n",
      "lr 8.188889e-07 reg 2.777778e+04 train accuracy: 0.321245 val accuracy: 0.336000\n",
      "lr 8.188889e-07 reg 2.922222e+04 train accuracy: 0.323776 val accuracy: 0.329000\n",
      "lr 8.188889e-07 reg 3.066667e+04 train accuracy: 0.314082 val accuracy: 0.320000\n",
      "lr 8.188889e-07 reg 3.211111e+04 train accuracy: 0.311102 val accuracy: 0.321000\n",
      "lr 8.188889e-07 reg 3.355556e+04 train accuracy: 0.319041 val accuracy: 0.328000\n",
      "lr 8.188889e-07 reg 3.500000e+04 train accuracy: 0.293694 val accuracy: 0.309000\n",
      "lr 8.300000e-07 reg 2.200000e+04 train accuracy: 0.322531 val accuracy: 0.319000\n",
      "lr 8.300000e-07 reg 2.344444e+04 train accuracy: 0.309245 val accuracy: 0.323000\n",
      "lr 8.300000e-07 reg 2.488889e+04 train accuracy: 0.314510 val accuracy: 0.321000\n",
      "lr 8.300000e-07 reg 2.633333e+04 train accuracy: 0.316939 val accuracy: 0.331000\n",
      "lr 8.300000e-07 reg 2.777778e+04 train accuracy: 0.319163 val accuracy: 0.338000\n",
      "lr 8.300000e-07 reg 2.922222e+04 train accuracy: 0.306918 val accuracy: 0.326000\n",
      "lr 8.300000e-07 reg 3.066667e+04 train accuracy: 0.307612 val accuracy: 0.336000\n",
      "lr 8.300000e-07 reg 3.211111e+04 train accuracy: 0.314837 val accuracy: 0.318000\n",
      "lr 8.300000e-07 reg 3.355556e+04 train accuracy: 0.316000 val accuracy: 0.332000\n",
      "lr 8.300000e-07 reg 3.500000e+04 train accuracy: 0.316857 val accuracy: 0.328000\n",
      "best validation accuracy achieved during cross-validation: 0.355000\n"
     ]
    }
   ],
   "source": [
    "# Use the validation set to tune hyperparameters (regularization strength and\n",
    "# learning rate). You should experiment with different ranges for the learning\n",
    "# rates and regularization strengths; if you are careful you should be able to\n",
    "# get a classification accuracy of over 0.35 on the validation set.\n",
    "from cs231n.classifiers import Softmax\n",
    "results = {}\n",
    "best_val = -1\n",
    "best_softmax = None\n",
    "learning_rates = [1e-7, 5e-7]\n",
    "regularization_strengths = [2.5e4, 5e4]\n",
    "\n",
    "################################################################################\n",
    "# TODO:                                                                        #\n",
    "# Use the validation set to set the learning rate and regularization strength. #\n",
    "# This should be identical to the validation that you did for the SVM; save    #\n",
    "# the best trained softmax classifer in best_softmax.                          #\n",
    "################################################################################\n",
    "learning_rates = np.linspace(7.3e-7, 8.3e-7, 10)\n",
    "regularization_strengths = np.linspace(2.2e4, 3.5e4, 10)\n",
    "for rate in learning_rates:\n",
    "    for strength in regularization_strengths:\n",
    "        svm = Softmax()\n",
    "        svm.train(X_train, y_train, learning_rate=rate, reg=strength,\n",
    "                          num_iters=100, verbose=False)\n",
    "        y_train_pred = svm.predict(X_train)\n",
    "        y_val_pred = svm.predict(X_val)\n",
    "        results[(rate, strength)] = (np.mean(y_train == y_train_pred), np.mean(y_val == y_val_pred))\n",
    "best_params = max(results.keys(), key = (lambda x: results[x][1]))\n",
    "best_val = results[best_params][1]\n",
    "################################################################################\n",
    "#                              END OF YOUR CODE                                #\n",
    "################################################################################\n",
    "    \n",
    "# Print out results.\n",
    "for lr, reg in sorted(results):\n",
    "    train_accuracy, val_accuracy = results[(lr, reg)]\n",
    "    print('lr %e reg %e train accuracy: %f val accuracy: %f' % (\n",
    "                lr, reg, train_accuracy, val_accuracy))\n",
    "    \n",
    "print('best validation accuracy achieved during cross-validation: %f' % best_val)"
   ]
  },
  {
   "cell_type": "code",
   "execution_count": 111,
   "metadata": {},
   "outputs": [
    {
     "data": {
      "text/plain": [
       "(7.855555555555555e-07, 24888.88888888889)"
      ]
     },
     "execution_count": 111,
     "metadata": {},
     "output_type": "execute_result"
    }
   ],
   "source": [
    "best_params"
   ]
  },
  {
   "cell_type": "code",
   "execution_count": 112,
   "metadata": {},
   "outputs": [],
   "source": [
    "best_svm = Softmax()\n",
    "best_svm.train(X_train, y_train, learning_rate=best_params[0], reg=best_params[1],\n",
    "                          num_iters=1000, verbose=False)"
   ]
  },
  {
   "cell_type": "code",
   "execution_count": 113,
   "metadata": {},
   "outputs": [
    {
     "name": "stdout",
     "output_type": "stream",
     "text": [
      "0.3236122448979592 0.328\n"
     ]
    }
   ],
   "source": [
    "y_train_pred = best_svm.predict(X_train)\n",
    "y_val_pred = best_svm.predict(X_val)\n",
    "print(np.mean(y_train == y_train_pred), np.mean(y_val == y_val_pred))"
   ]
  },
  {
   "cell_type": "code",
   "execution_count": 115,
   "metadata": {},
   "outputs": [
    {
     "name": "stdout",
     "output_type": "stream",
     "text": [
      "softmax on raw pixels final test set accuracy: 0.345000\n"
     ]
    }
   ],
   "source": [
    "# evaluate on test set\n",
    "# Evaluate the best softmax on test set\n",
    "y_test_pred = best_svm.predict(X_test)\n",
    "test_accuracy = np.mean(y_test == y_test_pred)\n",
    "print('softmax on raw pixels final test set accuracy: %f' % (test_accuracy, ))"
   ]
  },
  {
   "cell_type": "code",
   "execution_count": 117,
   "metadata": {},
   "outputs": [
    {
     "data": {
      "image/png": "[encoded data removed]",
      "text/plain": [
       "<matplotlib.figure.Figure at 0x2e08172fac8>"
      ]
     },
     "metadata": {},
     "output_type": "display_data"
    }
   ],
   "source": [
    "# Visualize the learned weights for each class\n",
    "w = best_svm.W[:-1,:] # strip out the bias\n",
    "w = w.reshape(32, 32, 3, 10)\n",
    "\n",
    "w_min, w_max = np.min(w), np.max(w)\n",
    "\n",
    "classes = ['plane', 'car', 'bird', 'cat', 'deer', 'dog', 'frog', 'horse', 'ship', 'truck']\n",
    "for i in range(10):\n",
    "    plt.subplot(2, 5, i + 1)\n",
    "    \n",
    "    # Rescale the weights to be between 0 and 255\n",
    "    wimg = 255.0 * (w[:, :, :, i].squeeze() - w_min) / (w_max - w_min)\n",
    "    plt.imshow(wimg.astype('uint8'))\n",
    "    plt.axis('off')\n",
    "    plt.title(classes[i])"
   ]
  },
  {
   "cell_type": "code",
   "execution_count": null,
   "metadata": {},
   "outputs": [],
   "source": []
  }
 ],
 "metadata": {
  "kernelspec": {
   "display_name": "Python 3",
   "language": "python",
   "name": "python3"
  },
  "language_info": {
   "codemirror_mode": {
    "name": "ipython",
    "version": 3
   },
   "file_extension": ".py",
   "mimetype": "text/x-python",
   "name": "python",
   "nbconvert_exporter": "python",
   "pygments_lexer": "ipython3",
   "version": "3.6.3"
  }
 },
 "nbformat": 4,
 "nbformat_minor": 1
}
